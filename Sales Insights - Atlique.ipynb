{
 "cells": [
  {
   "cell_type": "code",
   "execution_count": 1,
   "id": "3ee76717",
   "metadata": {},
   "outputs": [],
   "source": [
    "import pandas as pd\n",
    "import seaborn as sns\n",
    "import matplotlib.pyplot as plt"
   ]
  },
  {
   "cell_type": "code",
   "execution_count": 2,
   "id": "50b71c8b",
   "metadata": {},
   "outputs": [],
   "source": [
    "pd.set_option('display.max_rows', None)"
   ]
  },
  {
   "cell_type": "code",
   "execution_count": 3,
   "id": "f992bf8b",
   "metadata": {},
   "outputs": [],
   "source": [
    "df_customers = pd.read_csv('customers.csv')\n",
    "df_date = pd.read_csv('date.csv')\n",
    "df_markets = pd.read_csv('markets.csv')\n",
    "df_products = pd.read_csv('products.csv')\n",
    "df_transactions = pd.read_csv('transactions.csv')"
   ]
  },
  {
   "cell_type": "raw",
   "id": "4542d732",
   "metadata": {},
   "source": [
    "1) Load the datasets\n",
    "2) Checked for null values and cleaned -  null values in markets table -  \"zone\" column\n",
    "3) Remove Transactions with \"sales_amount\" = -1 & 0.\n",
    "4) Add \"norm_sales_amount\" - convert USD to INR"
   ]
  },
  {
   "cell_type": "markdown",
   "id": "67a8883f",
   "metadata": {},
   "source": [
    "### Checking for NULL values"
   ]
  },
  {
   "cell_type": "code",
   "execution_count": 4,
   "id": "ae5d7b1c",
   "metadata": {},
   "outputs": [
    {
     "data": {
      "text/plain": [
       "date           0\n",
       "cy_date        0\n",
       "year           0\n",
       "month_name     0\n",
       "date_yy_mmm    0\n",
       "dtype: int64"
      ]
     },
     "execution_count": 4,
     "metadata": {},
     "output_type": "execute_result"
    }
   ],
   "source": [
    "df_date.isnull().sum()"
   ]
  },
  {
   "cell_type": "code",
   "execution_count": 5,
   "id": "cdd3f818",
   "metadata": {},
   "outputs": [
    {
     "data": {
      "text/plain": [
       "product_code    0\n",
       "product_type    0\n",
       "dtype: int64"
      ]
     },
     "execution_count": 5,
     "metadata": {},
     "output_type": "execute_result"
    }
   ],
   "source": [
    "df_products.isnull().sum()"
   ]
  },
  {
   "cell_type": "code",
   "execution_count": 6,
   "id": "979b4cce",
   "metadata": {
    "scrolled": true
   },
   "outputs": [
    {
     "data": {
      "text/plain": [
       "product_code     0\n",
       "customer_code    0\n",
       "market_code      0\n",
       "order_date       0\n",
       "sales_qty        0\n",
       "sales_amount     0\n",
       "currency         0\n",
       "dtype: int64"
      ]
     },
     "execution_count": 6,
     "metadata": {},
     "output_type": "execute_result"
    }
   ],
   "source": [
    "df_transactions.isnull().sum()"
   ]
  },
  {
   "cell_type": "code",
   "execution_count": 7,
   "id": "b1316d84",
   "metadata": {},
   "outputs": [
    {
     "data": {
      "text/plain": [
       "markets_code    0\n",
       "markets_name    0\n",
       "zone            2\n",
       "dtype: int64"
      ]
     },
     "execution_count": 7,
     "metadata": {},
     "output_type": "execute_result"
    }
   ],
   "source": [
    "df_markets.isnull().sum()"
   ]
  },
  {
   "cell_type": "code",
   "execution_count": 8,
   "id": "d6096f1a",
   "metadata": {},
   "outputs": [
    {
     "data": {
      "text/html": [
       "<div>\n",
       "<style scoped>\n",
       "    .dataframe tbody tr th:only-of-type {\n",
       "        vertical-align: middle;\n",
       "    }\n",
       "\n",
       "    .dataframe tbody tr th {\n",
       "        vertical-align: top;\n",
       "    }\n",
       "\n",
       "    .dataframe thead th {\n",
       "        text-align: right;\n",
       "    }\n",
       "</style>\n",
       "<table border=\"1\" class=\"dataframe\">\n",
       "  <thead>\n",
       "    <tr style=\"text-align: right;\">\n",
       "      <th></th>\n",
       "      <th>markets_code</th>\n",
       "      <th>markets_name</th>\n",
       "      <th>zone</th>\n",
       "    </tr>\n",
       "  </thead>\n",
       "  <tbody>\n",
       "    <tr>\n",
       "      <th>15</th>\n",
       "      <td>Mark097</td>\n",
       "      <td>New York</td>\n",
       "      <td>NaN</td>\n",
       "    </tr>\n",
       "    <tr>\n",
       "      <th>16</th>\n",
       "      <td>Mark999</td>\n",
       "      <td>Paris</td>\n",
       "      <td>NaN</td>\n",
       "    </tr>\n",
       "  </tbody>\n",
       "</table>\n",
       "</div>"
      ],
      "text/plain": [
       "   markets_code markets_name zone\n",
       "15      Mark097     New York  NaN\n",
       "16      Mark999        Paris  NaN"
      ]
     },
     "execution_count": 8,
     "metadata": {},
     "output_type": "execute_result"
    }
   ],
   "source": [
    "df_markets.loc[df_markets['zone'].isnull()]"
   ]
  },
  {
   "cell_type": "markdown",
   "id": "433de4fb",
   "metadata": {},
   "source": [
    "df_markets have Null values in the Zone Column. The markets \"New York\" & \"Paris\" are outliers. So the records are dropped."
   ]
  },
  {
   "cell_type": "code",
   "execution_count": 9,
   "id": "8a32ba57",
   "metadata": {},
   "outputs": [],
   "source": [
    "# DROPPING NULL VALUES:\n",
    "df_markets = df_markets.dropna()"
   ]
  },
  {
   "cell_type": "code",
   "execution_count": 10,
   "id": "bd818599",
   "metadata": {
    "scrolled": true
   },
   "outputs": [
    {
     "data": {
      "text/html": [
       "<div>\n",
       "<style scoped>\n",
       "    .dataframe tbody tr th:only-of-type {\n",
       "        vertical-align: middle;\n",
       "    }\n",
       "\n",
       "    .dataframe tbody tr th {\n",
       "        vertical-align: top;\n",
       "    }\n",
       "\n",
       "    .dataframe thead th {\n",
       "        text-align: right;\n",
       "    }\n",
       "</style>\n",
       "<table border=\"1\" class=\"dataframe\">\n",
       "  <thead>\n",
       "    <tr style=\"text-align: right;\">\n",
       "      <th></th>\n",
       "      <th>markets_code</th>\n",
       "      <th>markets_name</th>\n",
       "      <th>zone</th>\n",
       "    </tr>\n",
       "  </thead>\n",
       "  <tbody>\n",
       "  </tbody>\n",
       "</table>\n",
       "</div>"
      ],
      "text/plain": [
       "Empty DataFrame\n",
       "Columns: [markets_code, markets_name, zone]\n",
       "Index: []"
      ]
     },
     "execution_count": 10,
     "metadata": {},
     "output_type": "execute_result"
    }
   ],
   "source": [
    "df_markets.loc[df_markets['zone'].isnull()]"
   ]
  },
  {
   "cell_type": "markdown",
   "id": "ab59db60",
   "metadata": {},
   "source": [
    "### Checking for Duplicates"
   ]
  },
  {
   "cell_type": "code",
   "execution_count": 11,
   "id": "c4f9f678",
   "metadata": {},
   "outputs": [
    {
     "data": {
      "text/plain": [
       "0"
      ]
     },
     "execution_count": 11,
     "metadata": {},
     "output_type": "execute_result"
    }
   ],
   "source": [
    "df_markets.markets_code.duplicated().sum()"
   ]
  },
  {
   "cell_type": "code",
   "execution_count": 12,
   "id": "4b40fac3",
   "metadata": {},
   "outputs": [
    {
     "data": {
      "text/plain": [
       "0"
      ]
     },
     "execution_count": 12,
     "metadata": {},
     "output_type": "execute_result"
    }
   ],
   "source": [
    "df_customers.customer_code.duplicated().sum()"
   ]
  },
  {
   "cell_type": "code",
   "execution_count": 13,
   "id": "78be65fb",
   "metadata": {},
   "outputs": [
    {
     "data": {
      "text/plain": [
       "0"
      ]
     },
     "execution_count": 13,
     "metadata": {},
     "output_type": "execute_result"
    }
   ],
   "source": [
    "df_products.product_code.duplicated().sum()"
   ]
  },
  {
   "cell_type": "code",
   "execution_count": 14,
   "id": "f240f3e2",
   "metadata": {},
   "outputs": [
    {
     "data": {
      "text/plain": [
       "0"
      ]
     },
     "execution_count": 14,
     "metadata": {},
     "output_type": "execute_result"
    }
   ],
   "source": [
    "df_products.product_code.duplicated().sum()"
   ]
  },
  {
   "cell_type": "markdown",
   "id": "76a92c52",
   "metadata": {},
   "source": [
    "### Removing transactions with Sales Amount = 0 or 1"
   ]
  },
  {
   "cell_type": "code",
   "execution_count": 15,
   "id": "559e8bfb",
   "metadata": {},
   "outputs": [
    {
     "data": {
      "text/plain": [
       "(1000, 7)"
      ]
     },
     "execution_count": 15,
     "metadata": {},
     "output_type": "execute_result"
    }
   ],
   "source": [
    "df_transactions.shape"
   ]
  },
  {
   "cell_type": "code",
   "execution_count": 16,
   "id": "0b88220f",
   "metadata": {},
   "outputs": [],
   "source": [
    "transaction_errors_index = df_transactions[(df_transactions['sales_amount'] == 0) | (df_transactions['sales_amount'] == -1)].index\n",
    "df_transactions.drop(transaction_errors_index, inplace = True)\n"
   ]
  },
  {
   "cell_type": "code",
   "execution_count": 17,
   "id": "347b5a60",
   "metadata": {
    "scrolled": false
   },
   "outputs": [
    {
     "data": {
      "text/html": [
       "<div>\n",
       "<style scoped>\n",
       "    .dataframe tbody tr th:only-of-type {\n",
       "        vertical-align: middle;\n",
       "    }\n",
       "\n",
       "    .dataframe tbody tr th {\n",
       "        vertical-align: top;\n",
       "    }\n",
       "\n",
       "    .dataframe thead th {\n",
       "        text-align: right;\n",
       "    }\n",
       "</style>\n",
       "<table border=\"1\" class=\"dataframe\">\n",
       "  <thead>\n",
       "    <tr style=\"text-align: right;\">\n",
       "      <th></th>\n",
       "      <th>product_code</th>\n",
       "      <th>customer_code</th>\n",
       "      <th>market_code</th>\n",
       "      <th>order_date</th>\n",
       "      <th>sales_qty</th>\n",
       "      <th>sales_amount</th>\n",
       "      <th>currency</th>\n",
       "    </tr>\n",
       "  </thead>\n",
       "  <tbody>\n",
       "  </tbody>\n",
       "</table>\n",
       "</div>"
      ],
      "text/plain": [
       "Empty DataFrame\n",
       "Columns: [product_code, customer_code, market_code, order_date, sales_qty, sales_amount, currency]\n",
       "Index: []"
      ]
     },
     "execution_count": 17,
     "metadata": {},
     "output_type": "execute_result"
    }
   ],
   "source": [
    "df_transactions[(df_transactions['sales_amount'] == 0) | (df_transactions['sales_amount'] == -1)]"
   ]
  },
  {
   "cell_type": "markdown",
   "id": "30cc33e5",
   "metadata": {},
   "source": [
    "### Converting USD to INR"
   ]
  },
  {
   "cell_type": "code",
   "execution_count": 18,
   "id": "a67e7898",
   "metadata": {
    "scrolled": true
   },
   "outputs": [
    {
     "data": {
      "text/plain": [
       "INR\\r    712\n",
       "INR      275\n",
       "USD        2\n",
       "USD\\r      2\n",
       "Name: currency, dtype: int64"
      ]
     },
     "execution_count": 18,
     "metadata": {},
     "output_type": "execute_result"
    }
   ],
   "source": [
    "df_transactions['currency'].value_counts()"
   ]
  },
  {
   "cell_type": "code",
   "execution_count": 19,
   "id": "3e334ff5",
   "metadata": {},
   "outputs": [
    {
     "data": {
      "text/html": [
       "<div>\n",
       "<style scoped>\n",
       "    .dataframe tbody tr th:only-of-type {\n",
       "        vertical-align: middle;\n",
       "    }\n",
       "\n",
       "    .dataframe tbody tr th {\n",
       "        vertical-align: top;\n",
       "    }\n",
       "\n",
       "    .dataframe thead th {\n",
       "        text-align: right;\n",
       "    }\n",
       "</style>\n",
       "<table border=\"1\" class=\"dataframe\">\n",
       "  <thead>\n",
       "    <tr style=\"text-align: right;\">\n",
       "      <th></th>\n",
       "      <th>product_code</th>\n",
       "      <th>customer_code</th>\n",
       "      <th>market_code</th>\n",
       "      <th>order_date</th>\n",
       "      <th>sales_qty</th>\n",
       "      <th>sales_amount</th>\n",
       "      <th>currency</th>\n",
       "    </tr>\n",
       "  </thead>\n",
       "  <tbody>\n",
       "    <tr>\n",
       "      <th>5</th>\n",
       "      <td>Prod003</td>\n",
       "      <td>Cus005</td>\n",
       "      <td>Mark004</td>\n",
       "      <td>2017-11-20</td>\n",
       "      <td>59</td>\n",
       "      <td>500</td>\n",
       "      <td>USD</td>\n",
       "    </tr>\n",
       "    <tr>\n",
       "      <th>6</th>\n",
       "      <td>Prod003</td>\n",
       "      <td>Cus005</td>\n",
       "      <td>Mark004</td>\n",
       "      <td>2017-11-22</td>\n",
       "      <td>36</td>\n",
       "      <td>250</td>\n",
       "      <td>USD</td>\n",
       "    </tr>\n",
       "    <tr>\n",
       "      <th>286</th>\n",
       "      <td>Prod003</td>\n",
       "      <td>Cus005</td>\n",
       "      <td>Mark004</td>\n",
       "      <td>2017-11-20</td>\n",
       "      <td>59</td>\n",
       "      <td>500</td>\n",
       "      <td>USD\\r</td>\n",
       "    </tr>\n",
       "    <tr>\n",
       "      <th>287</th>\n",
       "      <td>Prod003</td>\n",
       "      <td>Cus005</td>\n",
       "      <td>Mark004</td>\n",
       "      <td>2017-11-22</td>\n",
       "      <td>36</td>\n",
       "      <td>250</td>\n",
       "      <td>USD\\r</td>\n",
       "    </tr>\n",
       "  </tbody>\n",
       "</table>\n",
       "</div>"
      ],
      "text/plain": [
       "    product_code customer_code market_code  order_date  sales_qty  \\\n",
       "5        Prod003        Cus005     Mark004  2017-11-20         59   \n",
       "6        Prod003        Cus005     Mark004  2017-11-22         36   \n",
       "286      Prod003        Cus005     Mark004  2017-11-20         59   \n",
       "287      Prod003        Cus005     Mark004  2017-11-22         36   \n",
       "\n",
       "     sales_amount currency  \n",
       "5             500      USD  \n",
       "6             250      USD  \n",
       "286           500    USD\\r  \n",
       "287           250    USD\\r  "
      ]
     },
     "execution_count": 19,
     "metadata": {},
     "output_type": "execute_result"
    }
   ],
   "source": [
    "df_transactions[(df_transactions['currency'] == \"USD\") | (df_transactions['currency'] == \"USD\\r\") ]"
   ]
  },
  {
   "cell_type": "code",
   "execution_count": 20,
   "id": "b23447b6",
   "metadata": {},
   "outputs": [
    {
     "data": {
      "text/html": [
       "<div>\n",
       "<style scoped>\n",
       "    .dataframe tbody tr th:only-of-type {\n",
       "        vertical-align: middle;\n",
       "    }\n",
       "\n",
       "    .dataframe tbody tr th {\n",
       "        vertical-align: top;\n",
       "    }\n",
       "\n",
       "    .dataframe thead th {\n",
       "        text-align: right;\n",
       "    }\n",
       "</style>\n",
       "<table border=\"1\" class=\"dataframe\">\n",
       "  <thead>\n",
       "    <tr style=\"text-align: right;\">\n",
       "      <th></th>\n",
       "      <th>product_code</th>\n",
       "      <th>customer_code</th>\n",
       "      <th>market_code</th>\n",
       "      <th>order_date</th>\n",
       "      <th>sales_qty</th>\n",
       "      <th>sales_amount</th>\n",
       "      <th>currency</th>\n",
       "    </tr>\n",
       "  </thead>\n",
       "  <tbody>\n",
       "    <tr>\n",
       "      <th>0</th>\n",
       "      <td>Prod001</td>\n",
       "      <td>Cus001</td>\n",
       "      <td>Mark001</td>\n",
       "      <td>2017-10-10</td>\n",
       "      <td>100</td>\n",
       "      <td>41241</td>\n",
       "      <td>INR</td>\n",
       "    </tr>\n",
       "    <tr>\n",
       "      <th>2</th>\n",
       "      <td>Prod002</td>\n",
       "      <td>Cus003</td>\n",
       "      <td>Mark003</td>\n",
       "      <td>2018-04-06</td>\n",
       "      <td>1</td>\n",
       "      <td>875</td>\n",
       "      <td>INR</td>\n",
       "    </tr>\n",
       "    <tr>\n",
       "      <th>3</th>\n",
       "      <td>Prod002</td>\n",
       "      <td>Cus003</td>\n",
       "      <td>Mark003</td>\n",
       "      <td>2018-04-11</td>\n",
       "      <td>1</td>\n",
       "      <td>583</td>\n",
       "      <td>INR</td>\n",
       "    </tr>\n",
       "    <tr>\n",
       "      <th>4</th>\n",
       "      <td>Prod002</td>\n",
       "      <td>Cus004</td>\n",
       "      <td>Mark003</td>\n",
       "      <td>2018-06-18</td>\n",
       "      <td>6</td>\n",
       "      <td>7176</td>\n",
       "      <td>INR</td>\n",
       "    </tr>\n",
       "    <tr>\n",
       "      <th>7</th>\n",
       "      <td>Prod003</td>\n",
       "      <td>Cus005</td>\n",
       "      <td>Mark004</td>\n",
       "      <td>2017-11-23</td>\n",
       "      <td>39</td>\n",
       "      <td>21412</td>\n",
       "      <td>INR</td>\n",
       "    </tr>\n",
       "  </tbody>\n",
       "</table>\n",
       "</div>"
      ],
      "text/plain": [
       "  product_code customer_code market_code  order_date  sales_qty  sales_amount  \\\n",
       "0      Prod001        Cus001     Mark001  2017-10-10        100         41241   \n",
       "2      Prod002        Cus003     Mark003  2018-04-06          1           875   \n",
       "3      Prod002        Cus003     Mark003  2018-04-11          1           583   \n",
       "4      Prod002        Cus004     Mark003  2018-06-18          6          7176   \n",
       "7      Prod003        Cus005     Mark004  2017-11-23         39         21412   \n",
       "\n",
       "  currency  \n",
       "0      INR  \n",
       "2      INR  \n",
       "3      INR  \n",
       "4      INR  \n",
       "7      INR  "
      ]
     },
     "execution_count": 20,
     "metadata": {},
     "output_type": "execute_result"
    }
   ],
   "source": [
    "df_transactions[(df_transactions['currency'] == \"INR\") | (df_transactions['currency'] == \"INR\\r\") ].head()"
   ]
  },
  {
   "cell_type": "markdown",
   "id": "8425941a",
   "metadata": {},
   "source": [
    "Records with ['currency'] == \"INR\" and \"USD\" are duplciated."
   ]
  },
  {
   "cell_type": "markdown",
   "id": "68d9aa14",
   "metadata": {},
   "source": [
    "##### i) Removing  Duplicate Records:"
   ]
  },
  {
   "cell_type": "code",
   "execution_count": 21,
   "id": "60aaf73e",
   "metadata": {},
   "outputs": [
    {
     "data": {
      "text/plain": [
       "(991, 7)"
      ]
     },
     "execution_count": 21,
     "metadata": {},
     "output_type": "execute_result"
    }
   ],
   "source": [
    "df_transactions.shape"
   ]
  },
  {
   "cell_type": "code",
   "execution_count": 22,
   "id": "2bbf4cde",
   "metadata": {},
   "outputs": [],
   "source": [
    "drop_indexes = df_transactions[(df_transactions['currency'] == \"USD\") | (df_transactions['currency'] == \"INR\")].index\n",
    "df_transactions.drop(drop_indexes, inplace = True)"
   ]
  },
  {
   "cell_type": "code",
   "execution_count": 23,
   "id": "156d02aa",
   "metadata": {},
   "outputs": [
    {
     "data": {
      "text/plain": [
       "(714, 7)"
      ]
     },
     "execution_count": 23,
     "metadata": {},
     "output_type": "execute_result"
    }
   ],
   "source": [
    "df_transactions.shape"
   ]
  },
  {
   "cell_type": "markdown",
   "id": "a4b18db3",
   "metadata": {},
   "source": [
    "##### ii) Converting currency:"
   ]
  },
  {
   "cell_type": "code",
   "execution_count": 24,
   "id": "f21b22a4",
   "metadata": {},
   "outputs": [
    {
     "data": {
      "text/plain": [
       "{'USD\\r': 75, 'INR\\r': 1}"
      ]
     },
     "execution_count": 24,
     "metadata": {},
     "output_type": "execute_result"
    }
   ],
   "source": [
    "dict_covert = {}\n",
    "\n",
    "key1 = \"USD\\r\"\n",
    "key2 = \"INR\\r\"\n",
    "    \n",
    "dict_covert[key1] = 75\n",
    "dict_covert[key2] = 1\n",
    "\n",
    "\n",
    "dict_covert \n"
   ]
  },
  {
   "cell_type": "code",
   "execution_count": 25,
   "id": "92720c68",
   "metadata": {
    "scrolled": true
   },
   "outputs": [
    {
     "data": {
      "text/html": [
       "<div>\n",
       "<style scoped>\n",
       "    .dataframe tbody tr th:only-of-type {\n",
       "        vertical-align: middle;\n",
       "    }\n",
       "\n",
       "    .dataframe tbody tr th {\n",
       "        vertical-align: top;\n",
       "    }\n",
       "\n",
       "    .dataframe thead th {\n",
       "        text-align: right;\n",
       "    }\n",
       "</style>\n",
       "<table border=\"1\" class=\"dataframe\">\n",
       "  <thead>\n",
       "    <tr style=\"text-align: right;\">\n",
       "      <th></th>\n",
       "      <th>product_code</th>\n",
       "      <th>customer_code</th>\n",
       "      <th>market_code</th>\n",
       "      <th>order_date</th>\n",
       "      <th>sales_qty</th>\n",
       "      <th>sales_amount</th>\n",
       "      <th>currency</th>\n",
       "      <th>converter</th>\n",
       "    </tr>\n",
       "  </thead>\n",
       "  <tbody>\n",
       "    <tr>\n",
       "      <th>281</th>\n",
       "      <td>Prod001</td>\n",
       "      <td>Cus001</td>\n",
       "      <td>Mark001</td>\n",
       "      <td>2017-10-10</td>\n",
       "      <td>100</td>\n",
       "      <td>41241</td>\n",
       "      <td>INR\\r</td>\n",
       "      <td>1</td>\n",
       "    </tr>\n",
       "    <tr>\n",
       "      <th>283</th>\n",
       "      <td>Prod002</td>\n",
       "      <td>Cus003</td>\n",
       "      <td>Mark003</td>\n",
       "      <td>2018-04-06</td>\n",
       "      <td>1</td>\n",
       "      <td>875</td>\n",
       "      <td>INR\\r</td>\n",
       "      <td>1</td>\n",
       "    </tr>\n",
       "    <tr>\n",
       "      <th>284</th>\n",
       "      <td>Prod002</td>\n",
       "      <td>Cus003</td>\n",
       "      <td>Mark003</td>\n",
       "      <td>2018-04-11</td>\n",
       "      <td>1</td>\n",
       "      <td>583</td>\n",
       "      <td>INR\\r</td>\n",
       "      <td>1</td>\n",
       "    </tr>\n",
       "    <tr>\n",
       "      <th>285</th>\n",
       "      <td>Prod002</td>\n",
       "      <td>Cus004</td>\n",
       "      <td>Mark003</td>\n",
       "      <td>2018-06-18</td>\n",
       "      <td>6</td>\n",
       "      <td>7176</td>\n",
       "      <td>INR\\r</td>\n",
       "      <td>1</td>\n",
       "    </tr>\n",
       "    <tr>\n",
       "      <th>286</th>\n",
       "      <td>Prod003</td>\n",
       "      <td>Cus005</td>\n",
       "      <td>Mark004</td>\n",
       "      <td>2017-11-20</td>\n",
       "      <td>59</td>\n",
       "      <td>500</td>\n",
       "      <td>USD\\r</td>\n",
       "      <td>75</td>\n",
       "    </tr>\n",
       "  </tbody>\n",
       "</table>\n",
       "</div>"
      ],
      "text/plain": [
       "    product_code customer_code market_code  order_date  sales_qty  \\\n",
       "281      Prod001        Cus001     Mark001  2017-10-10        100   \n",
       "283      Prod002        Cus003     Mark003  2018-04-06          1   \n",
       "284      Prod002        Cus003     Mark003  2018-04-11          1   \n",
       "285      Prod002        Cus004     Mark003  2018-06-18          6   \n",
       "286      Prod003        Cus005     Mark004  2017-11-20         59   \n",
       "\n",
       "     sales_amount currency  converter  \n",
       "281         41241    INR\\r          1  \n",
       "283           875    INR\\r          1  \n",
       "284           583    INR\\r          1  \n",
       "285          7176    INR\\r          1  \n",
       "286           500    USD\\r         75  "
      ]
     },
     "execution_count": 25,
     "metadata": {},
     "output_type": "execute_result"
    }
   ],
   "source": [
    "df_transactions['converter'] = df_transactions['currency'].map(dict_covert)\n",
    "df_transactions.head()"
   ]
  },
  {
   "cell_type": "code",
   "execution_count": 26,
   "id": "3aa73645",
   "metadata": {},
   "outputs": [
    {
     "data": {
      "text/html": [
       "<div>\n",
       "<style scoped>\n",
       "    .dataframe tbody tr th:only-of-type {\n",
       "        vertical-align: middle;\n",
       "    }\n",
       "\n",
       "    .dataframe tbody tr th {\n",
       "        vertical-align: top;\n",
       "    }\n",
       "\n",
       "    .dataframe thead th {\n",
       "        text-align: right;\n",
       "    }\n",
       "</style>\n",
       "<table border=\"1\" class=\"dataframe\">\n",
       "  <thead>\n",
       "    <tr style=\"text-align: right;\">\n",
       "      <th></th>\n",
       "      <th>product_code</th>\n",
       "      <th>customer_code</th>\n",
       "      <th>market_code</th>\n",
       "      <th>order_date</th>\n",
       "      <th>sales_qty</th>\n",
       "      <th>sales_amount</th>\n",
       "      <th>currency</th>\n",
       "      <th>converter</th>\n",
       "      <th>norm_sales_amount</th>\n",
       "    </tr>\n",
       "  </thead>\n",
       "  <tbody>\n",
       "    <tr>\n",
       "      <th>281</th>\n",
       "      <td>Prod001</td>\n",
       "      <td>Cus001</td>\n",
       "      <td>Mark001</td>\n",
       "      <td>2017-10-10</td>\n",
       "      <td>100</td>\n",
       "      <td>41241</td>\n",
       "      <td>INR\\r</td>\n",
       "      <td>1</td>\n",
       "      <td>41241</td>\n",
       "    </tr>\n",
       "    <tr>\n",
       "      <th>283</th>\n",
       "      <td>Prod002</td>\n",
       "      <td>Cus003</td>\n",
       "      <td>Mark003</td>\n",
       "      <td>2018-04-06</td>\n",
       "      <td>1</td>\n",
       "      <td>875</td>\n",
       "      <td>INR\\r</td>\n",
       "      <td>1</td>\n",
       "      <td>875</td>\n",
       "    </tr>\n",
       "    <tr>\n",
       "      <th>284</th>\n",
       "      <td>Prod002</td>\n",
       "      <td>Cus003</td>\n",
       "      <td>Mark003</td>\n",
       "      <td>2018-04-11</td>\n",
       "      <td>1</td>\n",
       "      <td>583</td>\n",
       "      <td>INR\\r</td>\n",
       "      <td>1</td>\n",
       "      <td>583</td>\n",
       "    </tr>\n",
       "    <tr>\n",
       "      <th>285</th>\n",
       "      <td>Prod002</td>\n",
       "      <td>Cus004</td>\n",
       "      <td>Mark003</td>\n",
       "      <td>2018-06-18</td>\n",
       "      <td>6</td>\n",
       "      <td>7176</td>\n",
       "      <td>INR\\r</td>\n",
       "      <td>1</td>\n",
       "      <td>7176</td>\n",
       "    </tr>\n",
       "    <tr>\n",
       "      <th>286</th>\n",
       "      <td>Prod003</td>\n",
       "      <td>Cus005</td>\n",
       "      <td>Mark004</td>\n",
       "      <td>2017-11-20</td>\n",
       "      <td>59</td>\n",
       "      <td>500</td>\n",
       "      <td>USD\\r</td>\n",
       "      <td>75</td>\n",
       "      <td>37500</td>\n",
       "    </tr>\n",
       "  </tbody>\n",
       "</table>\n",
       "</div>"
      ],
      "text/plain": [
       "    product_code customer_code market_code  order_date  sales_qty  \\\n",
       "281      Prod001        Cus001     Mark001  2017-10-10        100   \n",
       "283      Prod002        Cus003     Mark003  2018-04-06          1   \n",
       "284      Prod002        Cus003     Mark003  2018-04-11          1   \n",
       "285      Prod002        Cus004     Mark003  2018-06-18          6   \n",
       "286      Prod003        Cus005     Mark004  2017-11-20         59   \n",
       "\n",
       "     sales_amount currency  converter  norm_sales_amount  \n",
       "281         41241    INR\\r          1              41241  \n",
       "283           875    INR\\r          1                875  \n",
       "284           583    INR\\r          1                583  \n",
       "285          7176    INR\\r          1               7176  \n",
       "286           500    USD\\r         75              37500  "
      ]
     },
     "execution_count": 26,
     "metadata": {},
     "output_type": "execute_result"
    }
   ],
   "source": [
    "df_transactions['norm_sales_amount'] = df_transactions['sales_amount'] * df_transactions['converter']\n",
    "df_transactions.head()"
   ]
  },
  {
   "cell_type": "markdown",
   "id": "1ea65580",
   "metadata": {},
   "source": [
    "##### 1) Transactions from Chennai"
   ]
  },
  {
   "cell_type": "code",
   "execution_count": 27,
   "id": "d9bd1aa2",
   "metadata": {},
   "outputs": [
    {
     "data": {
      "text/html": [
       "<div>\n",
       "<style scoped>\n",
       "    .dataframe tbody tr th:only-of-type {\n",
       "        vertical-align: middle;\n",
       "    }\n",
       "\n",
       "    .dataframe tbody tr th {\n",
       "        vertical-align: top;\n",
       "    }\n",
       "\n",
       "    .dataframe thead th {\n",
       "        text-align: right;\n",
       "    }\n",
       "</style>\n",
       "<table border=\"1\" class=\"dataframe\">\n",
       "  <thead>\n",
       "    <tr style=\"text-align: right;\">\n",
       "      <th></th>\n",
       "      <th>product_code</th>\n",
       "      <th>customer_code</th>\n",
       "      <th>market_code</th>\n",
       "      <th>order_date</th>\n",
       "      <th>sales_qty</th>\n",
       "      <th>sales_amount</th>\n",
       "      <th>currency</th>\n",
       "      <th>converter</th>\n",
       "      <th>norm_sales_amount</th>\n",
       "    </tr>\n",
       "  </thead>\n",
       "  <tbody>\n",
       "    <tr>\n",
       "      <th>281</th>\n",
       "      <td>Prod001</td>\n",
       "      <td>Cus001</td>\n",
       "      <td>Mark001</td>\n",
       "      <td>2017-10-10</td>\n",
       "      <td>100</td>\n",
       "      <td>41241</td>\n",
       "      <td>INR\\r</td>\n",
       "      <td>1</td>\n",
       "      <td>41241</td>\n",
       "    </tr>\n",
       "    <tr>\n",
       "      <th>554</th>\n",
       "      <td>Prod013</td>\n",
       "      <td>Cus001</td>\n",
       "      <td>Mark001</td>\n",
       "      <td>2017-10-10</td>\n",
       "      <td>240</td>\n",
       "      <td>143560</td>\n",
       "      <td>INR\\r</td>\n",
       "      <td>1</td>\n",
       "      <td>143560</td>\n",
       "    </tr>\n",
       "    <tr>\n",
       "      <th>588</th>\n",
       "      <td>Prod016</td>\n",
       "      <td>Cus001</td>\n",
       "      <td>Mark001</td>\n",
       "      <td>2018-06-28</td>\n",
       "      <td>187</td>\n",
       "      <td>115481</td>\n",
       "      <td>INR\\r</td>\n",
       "      <td>1</td>\n",
       "      <td>115481</td>\n",
       "    </tr>\n",
       "  </tbody>\n",
       "</table>\n",
       "</div>"
      ],
      "text/plain": [
       "    product_code customer_code market_code  order_date  sales_qty  \\\n",
       "281      Prod001        Cus001     Mark001  2017-10-10        100   \n",
       "554      Prod013        Cus001     Mark001  2017-10-10        240   \n",
       "588      Prod016        Cus001     Mark001  2018-06-28        187   \n",
       "\n",
       "     sales_amount currency  converter  norm_sales_amount  \n",
       "281         41241    INR\\r          1              41241  \n",
       "554        143560    INR\\r          1             143560  \n",
       "588        115481    INR\\r          1             115481  "
      ]
     },
     "execution_count": 27,
     "metadata": {},
     "output_type": "execute_result"
    }
   ],
   "source": [
    "df_transactions[df_transactions['market_code'] == \"Mark001\"]"
   ]
  },
  {
   "cell_type": "markdown",
   "id": "e8ab22ce",
   "metadata": {},
   "source": [
    "##### 2) Transactions done in USD Currency"
   ]
  },
  {
   "cell_type": "code",
   "execution_count": 28,
   "id": "115cecea",
   "metadata": {},
   "outputs": [
    {
     "data": {
      "text/plain": [
       "INR\\r    712\n",
       "USD\\r      2\n",
       "Name: currency, dtype: int64"
      ]
     },
     "execution_count": 28,
     "metadata": {},
     "output_type": "execute_result"
    }
   ],
   "source": [
    "df_transactions['currency'].value_counts()"
   ]
  },
  {
   "cell_type": "code",
   "execution_count": 29,
   "id": "88274732",
   "metadata": {
    "scrolled": true
   },
   "outputs": [
    {
     "data": {
      "text/html": [
       "<div>\n",
       "<style scoped>\n",
       "    .dataframe tbody tr th:only-of-type {\n",
       "        vertical-align: middle;\n",
       "    }\n",
       "\n",
       "    .dataframe tbody tr th {\n",
       "        vertical-align: top;\n",
       "    }\n",
       "\n",
       "    .dataframe thead th {\n",
       "        text-align: right;\n",
       "    }\n",
       "</style>\n",
       "<table border=\"1\" class=\"dataframe\">\n",
       "  <thead>\n",
       "    <tr style=\"text-align: right;\">\n",
       "      <th></th>\n",
       "      <th>product_code</th>\n",
       "      <th>customer_code</th>\n",
       "      <th>market_code</th>\n",
       "      <th>order_date</th>\n",
       "      <th>sales_qty</th>\n",
       "      <th>sales_amount</th>\n",
       "      <th>currency</th>\n",
       "      <th>converter</th>\n",
       "      <th>norm_sales_amount</th>\n",
       "    </tr>\n",
       "  </thead>\n",
       "  <tbody>\n",
       "    <tr>\n",
       "      <th>286</th>\n",
       "      <td>Prod003</td>\n",
       "      <td>Cus005</td>\n",
       "      <td>Mark004</td>\n",
       "      <td>2017-11-20</td>\n",
       "      <td>59</td>\n",
       "      <td>500</td>\n",
       "      <td>USD\\r</td>\n",
       "      <td>75</td>\n",
       "      <td>37500</td>\n",
       "    </tr>\n",
       "    <tr>\n",
       "      <th>287</th>\n",
       "      <td>Prod003</td>\n",
       "      <td>Cus005</td>\n",
       "      <td>Mark004</td>\n",
       "      <td>2017-11-22</td>\n",
       "      <td>36</td>\n",
       "      <td>250</td>\n",
       "      <td>USD\\r</td>\n",
       "      <td>75</td>\n",
       "      <td>18750</td>\n",
       "    </tr>\n",
       "  </tbody>\n",
       "</table>\n",
       "</div>"
      ],
      "text/plain": [
       "    product_code customer_code market_code  order_date  sales_qty  \\\n",
       "286      Prod003        Cus005     Mark004  2017-11-20         59   \n",
       "287      Prod003        Cus005     Mark004  2017-11-22         36   \n",
       "\n",
       "     sales_amount currency  converter  norm_sales_amount  \n",
       "286           500    USD\\r         75              37500  \n",
       "287           250    USD\\r         75              18750  "
      ]
     },
     "execution_count": 29,
     "metadata": {},
     "output_type": "execute_result"
    }
   ],
   "source": [
    "df_transactions.loc[df_transactions['currency'] == 'USD\\r']"
   ]
  },
  {
   "cell_type": "markdown",
   "id": "a43f37fd",
   "metadata": {},
   "source": [
    "##### 3) Transactions done in year 2020"
   ]
  },
  {
   "cell_type": "code",
   "execution_count": 30,
   "id": "b362b4da",
   "metadata": {},
   "outputs": [],
   "source": [
    "## Adding year column & month column\n",
    "df_transactions['year'] = df_transactions['order_date'].str[0:4]\n",
    "df_transactions['year'] = df_transactions['year'].astype(int)\n",
    "\n"
   ]
  },
  {
   "cell_type": "code",
   "execution_count": 31,
   "id": "862f945f",
   "metadata": {},
   "outputs": [
    {
     "data": {
      "text/html": [
       "<div>\n",
       "<style scoped>\n",
       "    .dataframe tbody tr th:only-of-type {\n",
       "        vertical-align: middle;\n",
       "    }\n",
       "\n",
       "    .dataframe tbody tr th {\n",
       "        vertical-align: top;\n",
       "    }\n",
       "\n",
       "    .dataframe thead th {\n",
       "        text-align: right;\n",
       "    }\n",
       "</style>\n",
       "<table border=\"1\" class=\"dataframe\">\n",
       "  <thead>\n",
       "    <tr style=\"text-align: right;\">\n",
       "      <th></th>\n",
       "      <th>product_code</th>\n",
       "      <th>customer_code</th>\n",
       "      <th>market_code</th>\n",
       "      <th>order_date</th>\n",
       "      <th>sales_qty</th>\n",
       "      <th>sales_amount</th>\n",
       "      <th>currency</th>\n",
       "      <th>converter</th>\n",
       "      <th>norm_sales_amount</th>\n",
       "      <th>year</th>\n",
       "      <th>month</th>\n",
       "    </tr>\n",
       "  </thead>\n",
       "  <tbody>\n",
       "    <tr>\n",
       "      <th>281</th>\n",
       "      <td>Prod001</td>\n",
       "      <td>Cus001</td>\n",
       "      <td>Mark001</td>\n",
       "      <td>2017-10-10</td>\n",
       "      <td>100</td>\n",
       "      <td>41241</td>\n",
       "      <td>INR\\r</td>\n",
       "      <td>1</td>\n",
       "      <td>41241</td>\n",
       "      <td>2017</td>\n",
       "      <td>10</td>\n",
       "    </tr>\n",
       "    <tr>\n",
       "      <th>283</th>\n",
       "      <td>Prod002</td>\n",
       "      <td>Cus003</td>\n",
       "      <td>Mark003</td>\n",
       "      <td>2018-04-06</td>\n",
       "      <td>1</td>\n",
       "      <td>875</td>\n",
       "      <td>INR\\r</td>\n",
       "      <td>1</td>\n",
       "      <td>875</td>\n",
       "      <td>2018</td>\n",
       "      <td>4</td>\n",
       "    </tr>\n",
       "    <tr>\n",
       "      <th>284</th>\n",
       "      <td>Prod002</td>\n",
       "      <td>Cus003</td>\n",
       "      <td>Mark003</td>\n",
       "      <td>2018-04-11</td>\n",
       "      <td>1</td>\n",
       "      <td>583</td>\n",
       "      <td>INR\\r</td>\n",
       "      <td>1</td>\n",
       "      <td>583</td>\n",
       "      <td>2018</td>\n",
       "      <td>4</td>\n",
       "    </tr>\n",
       "    <tr>\n",
       "      <th>285</th>\n",
       "      <td>Prod002</td>\n",
       "      <td>Cus004</td>\n",
       "      <td>Mark003</td>\n",
       "      <td>2018-06-18</td>\n",
       "      <td>6</td>\n",
       "      <td>7176</td>\n",
       "      <td>INR\\r</td>\n",
       "      <td>1</td>\n",
       "      <td>7176</td>\n",
       "      <td>2018</td>\n",
       "      <td>6</td>\n",
       "    </tr>\n",
       "    <tr>\n",
       "      <th>286</th>\n",
       "      <td>Prod003</td>\n",
       "      <td>Cus005</td>\n",
       "      <td>Mark004</td>\n",
       "      <td>2017-11-20</td>\n",
       "      <td>59</td>\n",
       "      <td>500</td>\n",
       "      <td>USD\\r</td>\n",
       "      <td>75</td>\n",
       "      <td>37500</td>\n",
       "      <td>2017</td>\n",
       "      <td>11</td>\n",
       "    </tr>\n",
       "  </tbody>\n",
       "</table>\n",
       "</div>"
      ],
      "text/plain": [
       "    product_code customer_code market_code  order_date  sales_qty  \\\n",
       "281      Prod001        Cus001     Mark001  2017-10-10        100   \n",
       "283      Prod002        Cus003     Mark003  2018-04-06          1   \n",
       "284      Prod002        Cus003     Mark003  2018-04-11          1   \n",
       "285      Prod002        Cus004     Mark003  2018-06-18          6   \n",
       "286      Prod003        Cus005     Mark004  2017-11-20         59   \n",
       "\n",
       "     sales_amount currency  converter  norm_sales_amount  year  month  \n",
       "281         41241    INR\\r          1              41241  2017     10  \n",
       "283           875    INR\\r          1                875  2018      4  \n",
       "284           583    INR\\r          1                583  2018      4  \n",
       "285          7176    INR\\r          1               7176  2018      6  \n",
       "286           500    USD\\r         75              37500  2017     11  "
      ]
     },
     "execution_count": 31,
     "metadata": {},
     "output_type": "execute_result"
    }
   ],
   "source": [
    "df_transactions['month'] = df_transactions['order_date'].str[5:7].astype(int)\n",
    "df_transactions.head()"
   ]
  },
  {
   "cell_type": "code",
   "execution_count": 32,
   "id": "a6e95bf7",
   "metadata": {
    "scrolled": true
   },
   "outputs": [
    {
     "data": {
      "text/html": [
       "<div>\n",
       "<style scoped>\n",
       "    .dataframe tbody tr th:only-of-type {\n",
       "        vertical-align: middle;\n",
       "    }\n",
       "\n",
       "    .dataframe tbody tr th {\n",
       "        vertical-align: top;\n",
       "    }\n",
       "\n",
       "    .dataframe thead th {\n",
       "        text-align: right;\n",
       "    }\n",
       "</style>\n",
       "<table border=\"1\" class=\"dataframe\">\n",
       "  <thead>\n",
       "    <tr style=\"text-align: right;\">\n",
       "      <th></th>\n",
       "      <th>product_code</th>\n",
       "      <th>customer_code</th>\n",
       "      <th>market_code</th>\n",
       "      <th>order_date</th>\n",
       "      <th>sales_qty</th>\n",
       "      <th>sales_amount</th>\n",
       "      <th>currency</th>\n",
       "      <th>converter</th>\n",
       "      <th>norm_sales_amount</th>\n",
       "      <th>year</th>\n",
       "      <th>month</th>\n",
       "    </tr>\n",
       "  </thead>\n",
       "  <tbody>\n",
       "    <tr>\n",
       "      <th>381</th>\n",
       "      <td>Prod005</td>\n",
       "      <td>Cus007</td>\n",
       "      <td>Mark004</td>\n",
       "      <td>2020-01-09</td>\n",
       "      <td>1</td>\n",
       "      <td>630</td>\n",
       "      <td>INR\\r</td>\n",
       "      <td>1</td>\n",
       "      <td>630</td>\n",
       "      <td>2020</td>\n",
       "      <td>1</td>\n",
       "    </tr>\n",
       "    <tr>\n",
       "      <th>382</th>\n",
       "      <td>Prod005</td>\n",
       "      <td>Cus007</td>\n",
       "      <td>Mark004</td>\n",
       "      <td>2020-01-10</td>\n",
       "      <td>1</td>\n",
       "      <td>472</td>\n",
       "      <td>INR\\r</td>\n",
       "      <td>1</td>\n",
       "      <td>472</td>\n",
       "      <td>2020</td>\n",
       "      <td>1</td>\n",
       "    </tr>\n",
       "    <tr>\n",
       "      <th>383</th>\n",
       "      <td>Prod005</td>\n",
       "      <td>Cus007</td>\n",
       "      <td>Mark004</td>\n",
       "      <td>2020-01-17</td>\n",
       "      <td>2</td>\n",
       "      <td>2042</td>\n",
       "      <td>INR\\r</td>\n",
       "      <td>1</td>\n",
       "      <td>2042</td>\n",
       "      <td>2020</td>\n",
       "      <td>1</td>\n",
       "    </tr>\n",
       "    <tr>\n",
       "      <th>384</th>\n",
       "      <td>Prod005</td>\n",
       "      <td>Cus007</td>\n",
       "      <td>Mark004</td>\n",
       "      <td>2020-02-07</td>\n",
       "      <td>1</td>\n",
       "      <td>417</td>\n",
       "      <td>INR\\r</td>\n",
       "      <td>1</td>\n",
       "      <td>417</td>\n",
       "      <td>2020</td>\n",
       "      <td>2</td>\n",
       "    </tr>\n",
       "    <tr>\n",
       "      <th>385</th>\n",
       "      <td>Prod005</td>\n",
       "      <td>Cus007</td>\n",
       "      <td>Mark004</td>\n",
       "      <td>2020-02-14</td>\n",
       "      <td>1</td>\n",
       "      <td>310</td>\n",
       "      <td>INR\\r</td>\n",
       "      <td>1</td>\n",
       "      <td>310</td>\n",
       "      <td>2020</td>\n",
       "      <td>2</td>\n",
       "    </tr>\n",
       "    <tr>\n",
       "      <th>386</th>\n",
       "      <td>Prod005</td>\n",
       "      <td>Cus007</td>\n",
       "      <td>Mark004</td>\n",
       "      <td>2020-02-28</td>\n",
       "      <td>1</td>\n",
       "      <td>208</td>\n",
       "      <td>INR\\r</td>\n",
       "      <td>1</td>\n",
       "      <td>208</td>\n",
       "      <td>2020</td>\n",
       "      <td>2</td>\n",
       "    </tr>\n",
       "    <tr>\n",
       "      <th>387</th>\n",
       "      <td>Prod005</td>\n",
       "      <td>Cus007</td>\n",
       "      <td>Mark004</td>\n",
       "      <td>2020-03-06</td>\n",
       "      <td>1</td>\n",
       "      <td>620</td>\n",
       "      <td>INR\\r</td>\n",
       "      <td>1</td>\n",
       "      <td>620</td>\n",
       "      <td>2020</td>\n",
       "      <td>3</td>\n",
       "    </tr>\n",
       "    <tr>\n",
       "      <th>388</th>\n",
       "      <td>Prod005</td>\n",
       "      <td>Cus007</td>\n",
       "      <td>Mark004</td>\n",
       "      <td>2020-03-13</td>\n",
       "      <td>1</td>\n",
       "      <td>620</td>\n",
       "      <td>INR\\r</td>\n",
       "      <td>1</td>\n",
       "      <td>620</td>\n",
       "      <td>2020</td>\n",
       "      <td>3</td>\n",
       "    </tr>\n",
       "    <tr>\n",
       "      <th>389</th>\n",
       "      <td>Prod005</td>\n",
       "      <td>Cus007</td>\n",
       "      <td>Mark004</td>\n",
       "      <td>2020-04-03</td>\n",
       "      <td>1</td>\n",
       "      <td>829</td>\n",
       "      <td>INR\\r</td>\n",
       "      <td>1</td>\n",
       "      <td>829</td>\n",
       "      <td>2020</td>\n",
       "      <td>4</td>\n",
       "    </tr>\n",
       "    <tr>\n",
       "      <th>390</th>\n",
       "      <td>Prod005</td>\n",
       "      <td>Cus007</td>\n",
       "      <td>Mark004</td>\n",
       "      <td>2020-04-14</td>\n",
       "      <td>4</td>\n",
       "      <td>2694</td>\n",
       "      <td>INR\\r</td>\n",
       "      <td>1</td>\n",
       "      <td>2694</td>\n",
       "      <td>2020</td>\n",
       "      <td>4</td>\n",
       "    </tr>\n",
       "    <tr>\n",
       "      <th>391</th>\n",
       "      <td>Prod005</td>\n",
       "      <td>Cus007</td>\n",
       "      <td>Mark004</td>\n",
       "      <td>2020-04-20</td>\n",
       "      <td>1</td>\n",
       "      <td>102</td>\n",
       "      <td>INR\\r</td>\n",
       "      <td>1</td>\n",
       "      <td>102</td>\n",
       "      <td>2020</td>\n",
       "      <td>4</td>\n",
       "    </tr>\n",
       "    <tr>\n",
       "      <th>392</th>\n",
       "      <td>Prod005</td>\n",
       "      <td>Cus007</td>\n",
       "      <td>Mark004</td>\n",
       "      <td>2020-05-15</td>\n",
       "      <td>2</td>\n",
       "      <td>528</td>\n",
       "      <td>INR\\r</td>\n",
       "      <td>1</td>\n",
       "      <td>528</td>\n",
       "      <td>2020</td>\n",
       "      <td>5</td>\n",
       "    </tr>\n",
       "    <tr>\n",
       "      <th>551</th>\n",
       "      <td>Prod011</td>\n",
       "      <td>Cus016</td>\n",
       "      <td>Mark002</td>\n",
       "      <td>2020-06-12</td>\n",
       "      <td>1</td>\n",
       "      <td>1028</td>\n",
       "      <td>INR\\r</td>\n",
       "      <td>1</td>\n",
       "      <td>1028</td>\n",
       "      <td>2020</td>\n",
       "      <td>6</td>\n",
       "    </tr>\n",
       "    <tr>\n",
       "      <th>552</th>\n",
       "      <td>Prod011</td>\n",
       "      <td>Cus016</td>\n",
       "      <td>Mark002</td>\n",
       "      <td>2020-06-16</td>\n",
       "      <td>1</td>\n",
       "      <td>514</td>\n",
       "      <td>INR\\r</td>\n",
       "      <td>1</td>\n",
       "      <td>514</td>\n",
       "      <td>2020</td>\n",
       "      <td>6</td>\n",
       "    </tr>\n",
       "  </tbody>\n",
       "</table>\n",
       "</div>"
      ],
      "text/plain": [
       "    product_code customer_code market_code  order_date  sales_qty  \\\n",
       "381      Prod005        Cus007     Mark004  2020-01-09          1   \n",
       "382      Prod005        Cus007     Mark004  2020-01-10          1   \n",
       "383      Prod005        Cus007     Mark004  2020-01-17          2   \n",
       "384      Prod005        Cus007     Mark004  2020-02-07          1   \n",
       "385      Prod005        Cus007     Mark004  2020-02-14          1   \n",
       "386      Prod005        Cus007     Mark004  2020-02-28          1   \n",
       "387      Prod005        Cus007     Mark004  2020-03-06          1   \n",
       "388      Prod005        Cus007     Mark004  2020-03-13          1   \n",
       "389      Prod005        Cus007     Mark004  2020-04-03          1   \n",
       "390      Prod005        Cus007     Mark004  2020-04-14          4   \n",
       "391      Prod005        Cus007     Mark004  2020-04-20          1   \n",
       "392      Prod005        Cus007     Mark004  2020-05-15          2   \n",
       "551      Prod011        Cus016     Mark002  2020-06-12          1   \n",
       "552      Prod011        Cus016     Mark002  2020-06-16          1   \n",
       "\n",
       "     sales_amount currency  converter  norm_sales_amount  year  month  \n",
       "381           630    INR\\r          1                630  2020      1  \n",
       "382           472    INR\\r          1                472  2020      1  \n",
       "383          2042    INR\\r          1               2042  2020      1  \n",
       "384           417    INR\\r          1                417  2020      2  \n",
       "385           310    INR\\r          1                310  2020      2  \n",
       "386           208    INR\\r          1                208  2020      2  \n",
       "387           620    INR\\r          1                620  2020      3  \n",
       "388           620    INR\\r          1                620  2020      3  \n",
       "389           829    INR\\r          1                829  2020      4  \n",
       "390          2694    INR\\r          1               2694  2020      4  \n",
       "391           102    INR\\r          1                102  2020      4  \n",
       "392           528    INR\\r          1                528  2020      5  \n",
       "551          1028    INR\\r          1               1028  2020      6  \n",
       "552           514    INR\\r          1                514  2020      6  "
      ]
     },
     "execution_count": 32,
     "metadata": {},
     "output_type": "execute_result"
    }
   ],
   "source": [
    "df_transactions[df_transactions['year'] == 2020]"
   ]
  },
  {
   "cell_type": "markdown",
   "id": "a1dada1b",
   "metadata": {},
   "source": [
    "##### 3) Revenue generated in year 2020"
   ]
  },
  {
   "cell_type": "code",
   "execution_count": 33,
   "id": "abc8f158",
   "metadata": {},
   "outputs": [],
   "source": [
    "df_transaction_2020 = df_transactions[df_transactions['year'] == 2020]"
   ]
  },
  {
   "cell_type": "code",
   "execution_count": 34,
   "id": "3321d343",
   "metadata": {},
   "outputs": [
    {
     "data": {
      "text/plain": [
       "11014"
      ]
     },
     "execution_count": 34,
     "metadata": {},
     "output_type": "execute_result"
    }
   ],
   "source": [
    "df_transaction_2020['norm_sales_amount'].sum()"
   ]
  },
  {
   "cell_type": "code",
   "execution_count": 35,
   "id": "0873d37e",
   "metadata": {},
   "outputs": [
    {
     "name": "stdout",
     "output_type": "stream",
     "text": [
      "Revenue generated in year 2020:  11014\n"
     ]
    }
   ],
   "source": [
    "print(\"Revenue generated in year 2020: \",df_transaction_2020.norm_sales_amount.sum())"
   ]
  },
  {
   "cell_type": "markdown",
   "id": "f2ef1dbe",
   "metadata": {},
   "source": [
    "##### 4) Revenue obtained from businesses in Delhi during 2020:"
   ]
  },
  {
   "cell_type": "code",
   "execution_count": 36,
   "id": "0f96b473",
   "metadata": {
    "scrolled": false
   },
   "outputs": [
    {
     "name": "stdout",
     "output_type": "stream",
     "text": [
      " Revenue obtained from businesses in Delhi during 2020:  9472\n"
     ]
    }
   ],
   "source": [
    "delhi_transaction_2020 = df_transactions[(df_transactions['year'] == 2020) & (df_transactions['market_code'] == 'Mark004')]['norm_sales_amount'].sum()\n",
    "print(\" Revenue obtained from businesses in Delhi during 2020: \", delhi_transaction_2020)"
   ]
  },
  {
   "cell_type": "markdown",
   "id": "13b39694",
   "metadata": {},
   "source": [
    "##### 5) Sales yearwise:"
   ]
  },
  {
   "cell_type": "code",
   "execution_count": 37,
   "id": "f0495cc7",
   "metadata": {},
   "outputs": [
    {
     "data": {
      "text/html": [
       "<div>\n",
       "<style scoped>\n",
       "    .dataframe tbody tr th:only-of-type {\n",
       "        vertical-align: middle;\n",
       "    }\n",
       "\n",
       "    .dataframe tbody tr th {\n",
       "        vertical-align: top;\n",
       "    }\n",
       "\n",
       "    .dataframe thead th {\n",
       "        text-align: right;\n",
       "    }\n",
       "</style>\n",
       "<table border=\"1\" class=\"dataframe\">\n",
       "  <thead>\n",
       "    <tr style=\"text-align: right;\">\n",
       "      <th></th>\n",
       "      <th>norm_sales_amount</th>\n",
       "    </tr>\n",
       "    <tr>\n",
       "      <th>year</th>\n",
       "      <th></th>\n",
       "    </tr>\n",
       "  </thead>\n",
       "  <tbody>\n",
       "    <tr>\n",
       "      <th>2017</th>\n",
       "      <td>1142610</td>\n",
       "    </tr>\n",
       "    <tr>\n",
       "      <th>2018</th>\n",
       "      <td>7065689</td>\n",
       "    </tr>\n",
       "    <tr>\n",
       "      <th>2019</th>\n",
       "      <td>2863358</td>\n",
       "    </tr>\n",
       "    <tr>\n",
       "      <th>2020</th>\n",
       "      <td>11014</td>\n",
       "    </tr>\n",
       "  </tbody>\n",
       "</table>\n",
       "</div>"
      ],
      "text/plain": [
       "      norm_sales_amount\n",
       "year                   \n",
       "2017            1142610\n",
       "2018            7065689\n",
       "2019            2863358\n",
       "2020              11014"
      ]
     },
     "execution_count": 37,
     "metadata": {},
     "output_type": "execute_result"
    }
   ],
   "source": [
    "df_transactions.groupby(['year'])[['norm_sales_amount']].sum()"
   ]
  },
  {
   "cell_type": "code",
   "execution_count": 38,
   "id": "288ad28d",
   "metadata": {
    "scrolled": false
   },
   "outputs": [
    {
     "data": {
      "image/png": "[encoded data removed]",
      "text/plain": [
       "<Figure size 720x360 with 1 Axes>"
      ]
     },
     "metadata": {
      "needs_background": "light"
     },
     "output_type": "display_data"
    }
   ],
   "source": [
    "df_yearwise = df_transactions.groupby(['year']).sum('norm_sales_amount')\n",
    "\n",
    "\n",
    "year = list(df_yearwise.index)\n",
    "sales = list(df_yearwise['norm_sales_amount'])\n",
    "  \n",
    "fig = plt.figure(figsize = (10, 5))\n",
    " \n",
    "# creating the bar plot\n",
    "plt.bar(year, sales, color ='maroon',\n",
    "        width = 0.4)\n",
    " \n",
    "plt.xlabel(\"Year\")\n",
    "plt.ylabel(\"Sales in that Year\")\n",
    "plt.title(\"Yearwise sales\")\n",
    "plt.show()\n"
   ]
  },
  {
   "cell_type": "markdown",
   "id": "e22c8e19",
   "metadata": {},
   "source": [
    "##### 6) Top 5 Customers:"
   ]
  },
  {
   "cell_type": "code",
   "execution_count": 39,
   "id": "ddcd0083",
   "metadata": {},
   "outputs": [],
   "source": [
    "df_cust_trans = df_transactions.merge(df_customers, left_on = 'customer_code', right_on='customer_code')"
   ]
  },
  {
   "cell_type": "code",
   "execution_count": 40,
   "id": "5797f30b",
   "metadata": {},
   "outputs": [
    {
     "data": {
      "text/html": [
       "<div>\n",
       "<style scoped>\n",
       "    .dataframe tbody tr th:only-of-type {\n",
       "        vertical-align: middle;\n",
       "    }\n",
       "\n",
       "    .dataframe tbody tr th {\n",
       "        vertical-align: top;\n",
       "    }\n",
       "\n",
       "    .dataframe thead th {\n",
       "        text-align: right;\n",
       "    }\n",
       "</style>\n",
       "<table border=\"1\" class=\"dataframe\">\n",
       "  <thead>\n",
       "    <tr style=\"text-align: right;\">\n",
       "      <th></th>\n",
       "      <th>norm_sales_amount</th>\n",
       "    </tr>\n",
       "    <tr>\n",
       "      <th>custmer_name</th>\n",
       "      <th></th>\n",
       "    </tr>\n",
       "  </thead>\n",
       "  <tbody>\n",
       "    <tr>\n",
       "      <th>Electricalslytical</th>\n",
       "      <td>2289335</td>\n",
       "    </tr>\n",
       "    <tr>\n",
       "      <th>Path</th>\n",
       "      <td>1883686</td>\n",
       "    </tr>\n",
       "    <tr>\n",
       "      <th>Electricalsara Stores</th>\n",
       "      <td>1787000</td>\n",
       "    </tr>\n",
       "    <tr>\n",
       "      <th>Logic Stores</th>\n",
       "      <td>1756308</td>\n",
       "    </tr>\n",
       "    <tr>\n",
       "      <th>Info Stores</th>\n",
       "      <td>707270</td>\n",
       "    </tr>\n",
       "  </tbody>\n",
       "</table>\n",
       "</div>"
      ],
      "text/plain": [
       "                       norm_sales_amount\n",
       "custmer_name                            \n",
       "Electricalslytical               2289335\n",
       "Path                             1883686\n",
       "Electricalsara Stores            1787000\n",
       "Logic Stores                     1756308\n",
       "Info Stores                       707270"
      ]
     },
     "execution_count": 40,
     "metadata": {},
     "output_type": "execute_result"
    }
   ],
   "source": [
    "df_cust_trans.groupby('custmer_name')[['norm_sales_amount']].sum().sort_values(by = 'norm_sales_amount', ascending = False).head(5)"
   ]
  },
  {
   "cell_type": "code",
   "execution_count": 41,
   "id": "2bd70152",
   "metadata": {
    "scrolled": true
   },
   "outputs": [
    {
     "data": {
      "image/png": "[encoded data removed]",
      "text/plain": [
       "<Figure size 720x360 with 1 Axes>"
      ]
     },
     "metadata": {
      "needs_background": "light"
     },
     "output_type": "display_data"
    }
   ],
   "source": [
    "df_top_cust = df_cust_trans.groupby('custmer_name').sum('norm_sales_amount').sort_values(by = 'norm_sales_amount', ascending = False).head(5)\n",
    "\n",
    "customers = list(df_top_cust.index)\n",
    "sales = list(df_top_cust['norm_sales_amount'])\n",
    "  \n",
    "fig = plt.figure(figsize = (10, 5))\n",
    " \n",
    "plt.bar(customers, sales, color ='purple',\n",
    "        width = 0.4)\n",
    " \n",
    "plt.xlabel(\"Customer\")\n",
    "plt.ylabel(\"Revenue obtained from that customer\")\n",
    "plt.title(\"Top 5 Customers\")\n",
    "plt.show()\n"
   ]
  },
  {
   "cell_type": "markdown",
   "id": "d53db766",
   "metadata": {},
   "source": [
    "##### 7) Sales Zone wise"
   ]
  },
  {
   "cell_type": "code",
   "execution_count": 42,
   "id": "789e47be",
   "metadata": {},
   "outputs": [],
   "source": [
    "df_mark_trans = df_transactions.merge(df_markets, left_on = 'market_code', right_on='markets_code')"
   ]
  },
  {
   "cell_type": "code",
   "execution_count": 43,
   "id": "bb16d19d",
   "metadata": {},
   "outputs": [
    {
     "data": {
      "text/html": [
       "<div>\n",
       "<style scoped>\n",
       "    .dataframe tbody tr th:only-of-type {\n",
       "        vertical-align: middle;\n",
       "    }\n",
       "\n",
       "    .dataframe tbody tr th {\n",
       "        vertical-align: top;\n",
       "    }\n",
       "\n",
       "    .dataframe thead th {\n",
       "        text-align: right;\n",
       "    }\n",
       "</style>\n",
       "<table border=\"1\" class=\"dataframe\">\n",
       "  <thead>\n",
       "    <tr style=\"text-align: right;\">\n",
       "      <th></th>\n",
       "      <th>norm_sales_amount</th>\n",
       "    </tr>\n",
       "    <tr>\n",
       "      <th>zone</th>\n",
       "      <th></th>\n",
       "    </tr>\n",
       "  </thead>\n",
       "  <tbody>\n",
       "    <tr>\n",
       "      <th>Central</th>\n",
       "      <td>6487941</td>\n",
       "    </tr>\n",
       "    <tr>\n",
       "      <th>North</th>\n",
       "      <td>4294448</td>\n",
       "    </tr>\n",
       "    <tr>\n",
       "      <th>South</th>\n",
       "      <td>300282</td>\n",
       "    </tr>\n",
       "  </tbody>\n",
       "</table>\n",
       "</div>"
      ],
      "text/plain": [
       "         norm_sales_amount\n",
       "zone                      \n",
       "Central            6487941\n",
       "North              4294448\n",
       "South               300282"
      ]
     },
     "execution_count": 43,
     "metadata": {},
     "output_type": "execute_result"
    }
   ],
   "source": [
    "df_mark_trans.groupby('zone')[['norm_sales_amount']].sum()"
   ]
  },
  {
   "cell_type": "markdown",
   "id": "00afc1c1",
   "metadata": {},
   "source": [
    "#### 8) 10 customers with lowest Transactions in North Zone:"
   ]
  },
  {
   "cell_type": "code",
   "execution_count": 44,
   "id": "b56b5303",
   "metadata": {},
   "outputs": [],
   "source": [
    "df_cust_mark_trans = df_cust_trans.merge(df_markets, left_on = 'market_code', right_on = 'markets_code')"
   ]
  },
  {
   "cell_type": "code",
   "execution_count": 45,
   "id": "782bd5b2",
   "metadata": {},
   "outputs": [
    {
     "name": "stdout",
     "output_type": "stream",
     "text": [
      "10 customers with lowest Transactions in North Zone: \n"
     ]
    },
    {
     "data": {
      "text/html": [
       "<div>\n",
       "<style scoped>\n",
       "    .dataframe tbody tr th:only-of-type {\n",
       "        vertical-align: middle;\n",
       "    }\n",
       "\n",
       "    .dataframe tbody tr th {\n",
       "        vertical-align: top;\n",
       "    }\n",
       "\n",
       "    .dataframe thead th {\n",
       "        text-align: right;\n",
       "    }\n",
       "</style>\n",
       "<table border=\"1\" class=\"dataframe\">\n",
       "  <thead>\n",
       "    <tr style=\"text-align: right;\">\n",
       "      <th></th>\n",
       "      <th>norm_sales_amount</th>\n",
       "    </tr>\n",
       "    <tr>\n",
       "      <th>custmer_name</th>\n",
       "      <th></th>\n",
       "    </tr>\n",
       "  </thead>\n",
       "  <tbody>\n",
       "    <tr>\n",
       "      <th>Acclaimed Stores</th>\n",
       "      <td>1314</td>\n",
       "    </tr>\n",
       "    <tr>\n",
       "      <th>Surface Stores</th>\n",
       "      <td>7176</td>\n",
       "    </tr>\n",
       "    <tr>\n",
       "      <th>Integration Stores</th>\n",
       "      <td>13992</td>\n",
       "    </tr>\n",
       "    <tr>\n",
       "      <th>Unity Stores</th>\n",
       "      <td>29635</td>\n",
       "    </tr>\n",
       "    <tr>\n",
       "      <th>Nixon</th>\n",
       "      <td>31069</td>\n",
       "    </tr>\n",
       "    <tr>\n",
       "      <th>Atlas Stores</th>\n",
       "      <td>50090</td>\n",
       "    </tr>\n",
       "    <tr>\n",
       "      <th>Forward Stores</th>\n",
       "      <td>53044</td>\n",
       "    </tr>\n",
       "    <tr>\n",
       "      <th>Excel Stores</th>\n",
       "      <td>59665</td>\n",
       "    </tr>\n",
       "    <tr>\n",
       "      <th>Insight</th>\n",
       "      <td>105333</td>\n",
       "    </tr>\n",
       "    <tr>\n",
       "      <th>Premium Stores</th>\n",
       "      <td>422015</td>\n",
       "    </tr>\n",
       "  </tbody>\n",
       "</table>\n",
       "</div>"
      ],
      "text/plain": [
       "                    norm_sales_amount\n",
       "custmer_name                         \n",
       "Acclaimed Stores                 1314\n",
       "Surface Stores                   7176\n",
       "Integration Stores              13992\n",
       "Unity Stores                    29635\n",
       "Nixon                           31069\n",
       "Atlas Stores                    50090\n",
       "Forward Stores                  53044\n",
       "Excel Stores                    59665\n",
       "Insight                        105333\n",
       "Premium Stores                 422015"
      ]
     },
     "execution_count": 45,
     "metadata": {},
     "output_type": "execute_result"
    }
   ],
   "source": [
    "print(\"10 customers with lowest Transactions in North Zone: \")\n",
    "df_cust_north = df_cust_mark_trans[df_cust_mark_trans['zone'] == 'North']\n",
    "df_cust_north.groupby('custmer_name')[[\"norm_sales_amount\"]].sum().sort_values(by = 'norm_sales_amount', ascending = True).head(10)"
   ]
  },
  {
   "cell_type": "markdown",
   "id": "70a5304f",
   "metadata": {},
   "source": [
    "#### 9) Customer in Central Zone with transaction below than avergae transaction in Central zone:"
   ]
  },
  {
   "cell_type": "code",
   "execution_count": 46,
   "id": "ca4c72d8",
   "metadata": {},
   "outputs": [],
   "source": [
    "df_cust_central = df_cust_mark_trans[df_cust_mark_trans['zone'] == 'Central']"
   ]
  },
  {
   "cell_type": "code",
   "execution_count": 52,
   "id": "dddbf854",
   "metadata": {},
   "outputs": [
    {
     "name": "stdout",
     "output_type": "stream",
     "text": [
      "Customers in Central Zone with transaction below than avergae transaction in Central zone\n"
     ]
    },
    {
     "data": {
      "text/html": [
       "<div>\n",
       "<style scoped>\n",
       "    .dataframe tbody tr th:only-of-type {\n",
       "        vertical-align: middle;\n",
       "    }\n",
       "\n",
       "    .dataframe tbody tr th {\n",
       "        vertical-align: top;\n",
       "    }\n",
       "\n",
       "    .dataframe thead th {\n",
       "        text-align: right;\n",
       "    }\n",
       "</style>\n",
       "<table border=\"1\" class=\"dataframe\">\n",
       "  <thead>\n",
       "    <tr style=\"text-align: right;\">\n",
       "      <th></th>\n",
       "      <th>product_code</th>\n",
       "      <th>customer_code</th>\n",
       "      <th>market_code</th>\n",
       "      <th>order_date</th>\n",
       "      <th>sales_qty</th>\n",
       "      <th>sales_amount</th>\n",
       "      <th>currency</th>\n",
       "      <th>converter</th>\n",
       "      <th>norm_sales_amount</th>\n",
       "      <th>year</th>\n",
       "      <th>month</th>\n",
       "      <th>custmer_name</th>\n",
       "      <th>customer_type</th>\n",
       "      <th>markets_code</th>\n",
       "      <th>markets_name</th>\n",
       "      <th>zone</th>\n",
       "    </tr>\n",
       "  </thead>\n",
       "  <tbody>\n",
       "    <tr>\n",
       "      <th>326</th>\n",
       "      <td>Prod009</td>\n",
       "      <td>Cus009</td>\n",
       "      <td>Mark002</td>\n",
       "      <td>2018-11-14</td>\n",
       "      <td>3</td>\n",
       "      <td>3032</td>\n",
       "      <td>INR\\r</td>\n",
       "      <td>1</td>\n",
       "      <td>3032</td>\n",
       "      <td>2018</td>\n",
       "      <td>11</td>\n",
       "      <td>Electricalsquipo Stores</td>\n",
       "      <td>Brick &amp; Mortar</td>\n",
       "      <td>Mark002</td>\n",
       "      <td>Mumbai</td>\n",
       "      <td>Central</td>\n",
       "    </tr>\n",
       "    <tr>\n",
       "      <th>327</th>\n",
       "      <td>Prod011</td>\n",
       "      <td>Cus016</td>\n",
       "      <td>Mark002</td>\n",
       "      <td>2017-10-06</td>\n",
       "      <td>1</td>\n",
       "      <td>505</td>\n",
       "      <td>INR\\r</td>\n",
       "      <td>1</td>\n",
       "      <td>505</td>\n",
       "      <td>2017</td>\n",
       "      <td>10</td>\n",
       "      <td>Logic Stores</td>\n",
       "      <td>Brick &amp; Mortar</td>\n",
       "      <td>Mark002</td>\n",
       "      <td>Mumbai</td>\n",
       "      <td>Central</td>\n",
       "    </tr>\n",
       "    <tr>\n",
       "      <th>328</th>\n",
       "      <td>Prod011</td>\n",
       "      <td>Cus016</td>\n",
       "      <td>Mark002</td>\n",
       "      <td>2017-10-13</td>\n",
       "      <td>1</td>\n",
       "      <td>1514</td>\n",
       "      <td>INR\\r</td>\n",
       "      <td>1</td>\n",
       "      <td>1514</td>\n",
       "      <td>2017</td>\n",
       "      <td>10</td>\n",
       "      <td>Logic Stores</td>\n",
       "      <td>Brick &amp; Mortar</td>\n",
       "      <td>Mark002</td>\n",
       "      <td>Mumbai</td>\n",
       "      <td>Central</td>\n",
       "    </tr>\n",
       "    <tr>\n",
       "      <th>329</th>\n",
       "      <td>Prod011</td>\n",
       "      <td>Cus016</td>\n",
       "      <td>Mark002</td>\n",
       "      <td>2017-10-20</td>\n",
       "      <td>1</td>\n",
       "      <td>2023</td>\n",
       "      <td>INR\\r</td>\n",
       "      <td>1</td>\n",
       "      <td>2023</td>\n",
       "      <td>2017</td>\n",
       "      <td>10</td>\n",
       "      <td>Logic Stores</td>\n",
       "      <td>Brick &amp; Mortar</td>\n",
       "      <td>Mark002</td>\n",
       "      <td>Mumbai</td>\n",
       "      <td>Central</td>\n",
       "    </tr>\n",
       "    <tr>\n",
       "      <th>331</th>\n",
       "      <td>Prod011</td>\n",
       "      <td>Cus016</td>\n",
       "      <td>Mark002</td>\n",
       "      <td>2018-02-08</td>\n",
       "      <td>1</td>\n",
       "      <td>593</td>\n",
       "      <td>INR\\r</td>\n",
       "      <td>1</td>\n",
       "      <td>593</td>\n",
       "      <td>2018</td>\n",
       "      <td>2</td>\n",
       "      <td>Logic Stores</td>\n",
       "      <td>Brick &amp; Mortar</td>\n",
       "      <td>Mark002</td>\n",
       "      <td>Mumbai</td>\n",
       "      <td>Central</td>\n",
       "    </tr>\n",
       "  </tbody>\n",
       "</table>\n",
       "</div>"
      ],
      "text/plain": [
       "    product_code customer_code market_code  order_date  sales_qty  \\\n",
       "326      Prod009        Cus009     Mark002  2018-11-14          3   \n",
       "327      Prod011        Cus016     Mark002  2017-10-06          1   \n",
       "328      Prod011        Cus016     Mark002  2017-10-13          1   \n",
       "329      Prod011        Cus016     Mark002  2017-10-20          1   \n",
       "331      Prod011        Cus016     Mark002  2018-02-08          1   \n",
       "\n",
       "     sales_amount currency  converter  norm_sales_amount  year  month  \\\n",
       "326          3032    INR\\r          1               3032  2018     11   \n",
       "327           505    INR\\r          1                505  2017     10   \n",
       "328          1514    INR\\r          1               1514  2017     10   \n",
       "329          2023    INR\\r          1               2023  2017     10   \n",
       "331           593    INR\\r          1                593  2018      2   \n",
       "\n",
       "                custmer_name   customer_type markets_code markets_name  \\\n",
       "326  Electricalsquipo Stores  Brick & Mortar      Mark002       Mumbai   \n",
       "327             Logic Stores  Brick & Mortar      Mark002       Mumbai   \n",
       "328             Logic Stores  Brick & Mortar      Mark002       Mumbai   \n",
       "329             Logic Stores  Brick & Mortar      Mark002       Mumbai   \n",
       "331             Logic Stores  Brick & Mortar      Mark002       Mumbai   \n",
       "\n",
       "        zone  \n",
       "326  Central  \n",
       "327  Central  \n",
       "328  Central  \n",
       "329  Central  \n",
       "331  Central  "
      ]
     },
     "execution_count": 52,
     "metadata": {},
     "output_type": "execute_result"
    }
   ],
   "source": [
    "avg_sales_central = df_cust_central['norm_sales_amount'].mean()\n",
    "\n",
    "print('Customers in Central Zone with transaction below than avergae transaction in Central zone')\n",
    "df_cust_central[df_cust_central['norm_sales_amount'] < avg_sales_central].head()"
   ]
  },
  {
   "cell_type": "code",
   "execution_count": null,
   "id": "c3c5e292",
   "metadata": {},
   "outputs": [],
   "source": []
  },
  {
   "cell_type": "markdown",
   "id": "e0f149c1",
   "metadata": {},
   "source": [
    "#### 10) SalesTrend in 2019"
   ]
  },
  {
   "cell_type": "code",
   "execution_count": 49,
   "id": "e1792be9",
   "metadata": {},
   "outputs": [],
   "source": [
    "df_2019_trans = df_transactions[df_transactions['year'] == 2019]"
   ]
  },
  {
   "cell_type": "code",
   "execution_count": 50,
   "id": "c5e6aed1",
   "metadata": {},
   "outputs": [
    {
     "data": {
      "text/html": [
       "<div>\n",
       "<style scoped>\n",
       "    .dataframe tbody tr th:only-of-type {\n",
       "        vertical-align: middle;\n",
       "    }\n",
       "\n",
       "    .dataframe tbody tr th {\n",
       "        vertical-align: top;\n",
       "    }\n",
       "\n",
       "    .dataframe thead th {\n",
       "        text-align: right;\n",
       "    }\n",
       "</style>\n",
       "<table border=\"1\" class=\"dataframe\">\n",
       "  <thead>\n",
       "    <tr style=\"text-align: right;\">\n",
       "      <th></th>\n",
       "      <th>norm_sales_amount</th>\n",
       "    </tr>\n",
       "    <tr>\n",
       "      <th>month</th>\n",
       "      <th></th>\n",
       "    </tr>\n",
       "  </thead>\n",
       "  <tbody>\n",
       "    <tr>\n",
       "      <th>1</th>\n",
       "      <td>981598</td>\n",
       "    </tr>\n",
       "    <tr>\n",
       "      <th>2</th>\n",
       "      <td>723158</td>\n",
       "    </tr>\n",
       "    <tr>\n",
       "      <th>3</th>\n",
       "      <td>148213</td>\n",
       "    </tr>\n",
       "    <tr>\n",
       "      <th>4</th>\n",
       "      <td>3000</td>\n",
       "    </tr>\n",
       "    <tr>\n",
       "      <th>5</th>\n",
       "      <td>167157</td>\n",
       "    </tr>\n",
       "    <tr>\n",
       "      <th>6</th>\n",
       "      <td>80193</td>\n",
       "    </tr>\n",
       "    <tr>\n",
       "      <th>7</th>\n",
       "      <td>365755</td>\n",
       "    </tr>\n",
       "    <tr>\n",
       "      <th>8</th>\n",
       "      <td>28168</td>\n",
       "    </tr>\n",
       "    <tr>\n",
       "      <th>9</th>\n",
       "      <td>277885</td>\n",
       "    </tr>\n",
       "    <tr>\n",
       "      <th>10</th>\n",
       "      <td>31494</td>\n",
       "    </tr>\n",
       "    <tr>\n",
       "      <th>11</th>\n",
       "      <td>34950</td>\n",
       "    </tr>\n",
       "    <tr>\n",
       "      <th>12</th>\n",
       "      <td>21787</td>\n",
       "    </tr>\n",
       "  </tbody>\n",
       "</table>\n",
       "</div>"
      ],
      "text/plain": [
       "       norm_sales_amount\n",
       "month                   \n",
       "1                 981598\n",
       "2                 723158\n",
       "3                 148213\n",
       "4                   3000\n",
       "5                 167157\n",
       "6                  80193\n",
       "7                 365755\n",
       "8                  28168\n",
       "9                 277885\n",
       "10                 31494\n",
       "11                 34950\n",
       "12                 21787"
      ]
     },
     "execution_count": 50,
     "metadata": {},
     "output_type": "execute_result"
    }
   ],
   "source": [
    "df_2019_trans.groupby('month')[['norm_sales_amount']].sum()"
   ]
  },
  {
   "cell_type": "code",
   "execution_count": 51,
   "id": "25484a0f",
   "metadata": {
    "scrolled": true
   },
   "outputs": [
    {
     "data": {
      "image/png": "[encoded data removed]",
      "text/plain": [
       "<Figure size 720x360 with 1 Axes>"
      ]
     },
     "metadata": {
      "needs_background": "light"
     },
     "output_type": "display_data"
    }
   ],
   "source": [
    "df_2019_month_wise = df_2019_trans.groupby('month')[['norm_sales_amount']].sum()\n",
    "\n",
    "month = list(df_2019_month_wise.index)\n",
    "sales = list(df_2019_month_wise['norm_sales_amount'])\n",
    "  \n",
    "\n",
    "\n",
    "year = list(df_2019_month_wise.index)\n",
    "sales = list(df_2019_month_wise['norm_sales_amount'])\n",
    "  \n",
    "fig = plt.figure(figsize = (10, 5))\n",
    " \n",
    "# creating the bar plot\n",
    "plt.bar(year, sales, color ='green',\n",
    "        width = 0.4)\n",
    " \n",
    "plt.xlabel(\"Month\")\n",
    "plt.ylabel(\"Sales in that Month\")\n",
    "plt.title(\"Sales Trend in 2019\")\n",
    "plt.show()\n",
    "\n"
   ]
  },
  {
   "cell_type": "code",
   "execution_count": null,
   "id": "c24622b6",
   "metadata": {
    "scrolled": true
   },
   "outputs": [],
   "source": []
  },
  {
   "cell_type": "code",
   "execution_count": null,
   "id": "efe49563",
   "metadata": {},
   "outputs": [],
   "source": []
  }
 ],
 "metadata": {
  "kernelspec": {
   "display_name": "Python 3",
   "language": "python",
   "name": "python3"
  },
  "language_info": {
   "codemirror_mode": {
    "name": "ipython",
    "version": 3
   },
   "file_extension": ".py",
   "mimetype": "text/x-python",
   "name": "python",
   "nbconvert_exporter": "python",
   "pygments_lexer": "ipython3",
   "version": "3.8.8"
  }
 },
 "nbformat": 4,
 "nbformat_minor": 5
}
